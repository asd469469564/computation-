{
  "nbformat": 4,
  "nbformat_minor": 0,
  "metadata": {
    "colab": {
      "name": "Untitled0.ipynb",
      "provenance": [],
      "include_colab_link": true
    },
    "kernelspec": {
      "name": "python3",
      "display_name": "Python 3"
    }
  },
  "cells": [
    {
      "cell_type": "markdown",
      "metadata": {
        "id": "view-in-github",
        "colab_type": "text"
      },
      "source": [
        "<a href=\"https://colab.research.google.com/github/asd469469564/computation-/blob/master/A108260085-%E6%9D%8E%E6%98%9F%E7%B7%AF-Week5.ipynb\" target=\"_parent\"><img src=\"https://colab.research.google.com/assets/colab-badge.svg\" alt=\"Open In Colab\"/></a>"
      ]
    },
    {
      "cell_type": "code",
      "metadata": {
        "id": "iupZH4j6XxSj",
        "colab_type": "code",
        "colab": {
          "base_uri": "https://localhost:8080/",
          "height": 85
        },
        "outputId": "ece2b3de-2282-4218-9ebb-88828feb7d08"
      },
      "source": [
        "y1=int(input(\"請輸入第一次期中考成績\"))\n",
        "y2=int(input(\"請輸入第二次期中考成績\"))\n",
        "y3=int(input(\"請輸入期末考成績\"))\n",
        "總分=(y1+y2+y3)\n",
        "平均=(y1+y2+y3)/3\n",
        "print(總分,平均)"
      ],
      "execution_count": 15,
      "outputs": [
        {
          "output_type": "stream",
          "text": [
            "請輸入第一次期中考成績75\n",
            "請輸入第二次期中考成績80\n",
            "請輸入期末考成績65\n",
            "220 73.33333333333333\n"
          ],
          "name": "stdout"
        }
      ]
    },
    {
      "cell_type": "code",
      "metadata": {
        "id": "HvHZf3IYcdVq",
        "colab_type": "code",
        "colab": {
          "base_uri": "https://localhost:8080/",
          "height": 68
        },
        "outputId": "2f215522-a42f-48b0-b551-4e73fd31662e"
      },
      "source": [
        "q=int(input(\"請輸入幾尺?\"))\n",
        "\n",
        "w=int(input(\"請輸入幾吋?\"))\n",
        "\n",
        "r=(q*12+w)*2.54\n",
        "\n",
        "print(\"轉換成公分\",r)"
      ],
      "execution_count": 16,
      "outputs": [
        {
          "output_type": "stream",
          "text": [
            "請輸入幾尺?5\n",
            "請輸入幾吋?8\n",
            "轉換成公分 172.72\n"
          ],
          "name": "stdout"
        }
      ]
    }
  ]
}