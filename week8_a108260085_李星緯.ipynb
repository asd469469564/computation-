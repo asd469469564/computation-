{
  "nbformat": 4,
  "nbformat_minor": 0,
  "metadata": {
    "colab": {
      "name": "week8-a108260085-李星緯.ipynb",
      "provenance": [],
      "include_colab_link": true
    },
    "kernelspec": {
      "name": "python3",
      "display_name": "Python 3"
    }
  },
  "cells": [
    {
      "cell_type": "markdown",
      "metadata": {
        "id": "view-in-github",
        "colab_type": "text"
      },
      "source": [
        "<a href=\"https://colab.research.google.com/github/asd469469564/computation-/blob/master/week8_a108260085_%E6%9D%8E%E6%98%9F%E7%B7%AF.ipynb\" target=\"_parent\"><img src=\"https://colab.research.google.com/assets/colab-badge.svg\" alt=\"Open In Colab\"/></a>"
      ]
    },
    {
      "cell_type": "code",
      "metadata": {
        "id": "f9b4F9hrVTvw",
        "colab_type": "code",
        "colab": {
          "base_uri": "https://localhost:8080/",
          "height": 85
        },
        "outputId": "6adc12b3-d966-4fdd-add2-f650b3cad545"
      },
      "source": [
        "s = input('請輸入一行英文句子?')\n",
        "words = s.split(' ')\n",
        "print('將英文句子以空白字元切割後,獲得單字為', words)\n",
        "s2 = ' '.join(words)\n",
        "print('以空白字元結合所有單字後,獲得句子為', s2)\n",
        "s3 = s.title()\n",
        "print('將每個單字字首轉大寫後,獲得句子為',s3)\n"
      ],
      "execution_count": 3,
      "outputs": [
        {
          "output_type": "stream",
          "text": [
            "請輸入一行英文句子?An apple a day keeps doctor away\n",
            "將英文句子以空白字元切割後,獲得單字為 ['An', 'apple', 'a', 'day', 'keeps', 'doctor', 'away']\n",
            "以空白字元結合所有單字後,獲得句子為 An apple a day keeps doctor away\n",
            "將每個單字字首轉大寫後,獲得句子為 An Apple A Day Keeps Doctor Away\n"
          ],
          "name": "stdout"
        }
      ]
    },
    {
      "cell_type": "code",
      "metadata": {
        "id": "zbDKSiJgWD8f",
        "colab_type": "code",
        "colab": {
          "base_uri": "https://localhost:8080/",
          "height": 51
        },
        "outputId": "bdc509db-dfe0-4f65-ca5c-30dc709bac21"
      },
      "source": [
        "\n",
        "s = input('請輸入一行英文句子?')\n",
        "s.strip(' .')\n",
        "words = s.split(' ')\n",
        "print(words[::-1])"
      ],
      "execution_count": 4,
      "outputs": [
        {
          "output_type": "stream",
          "text": [
            "請輸入一行英文句子?An apple a day keeps doctor away\n",
            "['away', 'doctor', 'keeps', 'day', 'a', 'apple', 'An']\n"
          ],
          "name": "stdout"
        }
      ]
    }
  ]
}