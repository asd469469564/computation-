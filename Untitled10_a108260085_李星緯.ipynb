{
  "nbformat": 4,
  "nbformat_minor": 0,
  "metadata": {
    "colab": {
      "name": "Untitled10 a108260085 李星緯.ipynb",
      "provenance": [],
      "include_colab_link": true
    },
    "kernelspec": {
      "name": "python3",
      "display_name": "Python 3"
    }
  },
  "cells": [
    {
      "cell_type": "markdown",
      "metadata": {
        "id": "view-in-github",
        "colab_type": "text"
      },
      "source": [
        "<a href=\"https://colab.research.google.com/github/asd469469564/computation-/blob/master/Untitled10_a108260085_%E6%9D%8E%E6%98%9F%E7%B7%AF.ipynb\" target=\"_parent\"><img src=\"https://colab.research.google.com/assets/colab-badge.svg\" alt=\"Open In Colab\"/></a>"
      ]
    },
    {
      "cell_type": "code",
      "metadata": {
        "id": "5EWhfeWIq81S",
        "colab_type": "code",
        "colab": {
          "base_uri": "https://localhost:8080/",
          "height": 187
        },
        "outputId": "b60ac9aa-2673-4ff0-e151-a9cfc9c059f0"
      },
      "source": [
        "x = 0 \n",
        "while x < 10:\n",
        " print(\"hello\")\n",
        " x = x + 1 "
      ],
      "execution_count": 2,
      "outputs": [
        {
          "output_type": "stream",
          "text": [
            "hello\n",
            "hello\n",
            "hello\n",
            "hello\n",
            "hello\n",
            "hello\n",
            "hello\n",
            "hello\n",
            "hello\n",
            "hello\n"
          ],
          "name": "stdout"
        }
      ]
    },
    {
      "cell_type": "code",
      "metadata": {
        "id": "5VGPB2V0xkYw",
        "colab_type": "code",
        "colab": {
          "base_uri": "https://localhost:8080/",
          "height": 187
        },
        "outputId": "a688e630-f2b8-4813-e9af-e4599c7b799a"
      },
      "source": [
        "times = 0 \n",
        "while times < 10: \n",
        " times = times + 1 \n",
        " print(\"這是第\", times, \"次的hello\")"
      ],
      "execution_count": 3,
      "outputs": [
        {
          "output_type": "stream",
          "text": [
            "這是第 1 次的hello\n",
            "這是第 2 次的hello\n",
            "這是第 3 次的hello\n",
            "這是第 4 次的hello\n",
            "這是第 5 次的hello\n",
            "這是第 6 次的hello\n",
            "這是第 7 次的hello\n",
            "這是第 8 次的hello\n",
            "這是第 9 次的hello\n",
            "這是第 10 次的hello\n"
          ],
          "name": "stdout"
        }
      ]
    },
    {
      "cell_type": "code",
      "metadata": {
        "id": "HVfguR7Mxone",
        "colab_type": "code",
        "colab": {
          "base_uri": "https://localhost:8080/",
          "height": 34
        },
        "outputId": "37baf1a5-0267-4f0f-dbd2-9e0741e80130"
      },
      "source": [
        "x=5\n",
        "if x<10:\n",
        "   print(\"x小於10!\")"
      ],
      "execution_count": 4,
      "outputs": [
        {
          "output_type": "stream",
          "text": [
            "x小於10!\n"
          ],
          "name": "stdout"
        }
      ]
    },
    {
      "cell_type": "code",
      "metadata": {
        "id": "B2_pxHKhx2fv",
        "colab_type": "code",
        "colab": {
          "base_uri": "https://localhost:8080/",
          "height": 34
        },
        "outputId": "52b27b69-ea93-4c6e-9f50-10124292f2e5"
      },
      "source": [
        "x=0\n",
        "result=0\n",
        "end=50\n",
        "while result <= end:\n",
        "   x=x+1\n",
        "   result = result+x\n",
        "print(\"最後加的x是\",x)"
      ],
      "execution_count": 5,
      "outputs": [
        {
          "output_type": "stream",
          "text": [
            "最後加的x是 10\n"
          ],
          "name": "stdout"
        }
      ]
    },
    {
      "cell_type": "code",
      "metadata": {
        "id": "VCZi1Ch7x46n",
        "colab_type": "code",
        "colab": {
          "base_uri": "https://localhost:8080/",
          "height": 102
        },
        "outputId": "3de80cd1-79db-43a1-a6a1-8803dd7aa982"
      },
      "source": [
        "sum=0\n",
        "x=1\n",
        "while x<11:\n",
        "   sum = sum+x\n",
        "   x = x+2\n",
        "   print(\"1+3+5+7+9\",sum)"
      ],
      "execution_count": 6,
      "outputs": [
        {
          "output_type": "stream",
          "text": [
            "1+3+5+7+9 1\n",
            "1+3+5+7+9 4\n",
            "1+3+5+7+9 9\n",
            "1+3+5+7+9 16\n",
            "1+3+5+7+9 25\n"
          ],
          "name": "stdout"
        }
      ]
    },
    {
      "cell_type": "code",
      "metadata": {
        "id": "oJjgFkHNx7zs",
        "colab_type": "code",
        "colab": {
          "base_uri": "https://localhost:8080/",
          "height": 34
        },
        "outputId": "38a9c059-3364-46a0-c37b-592c7dddf927"
      },
      "source": [
        "sum = 0\n",
        "i = 0\n",
        "while sum <= 1000:\n",
        " i += 1\n",
        " sum += i*i\n",
        "print('最⼩的n值為', i)"
      ],
      "execution_count": 7,
      "outputs": [
        {
          "output_type": "stream",
          "text": [
            "最⼩的n值為 14\n"
          ],
          "name": "stdout"
        }
      ]
    },
    {
      "cell_type": "code",
      "metadata": {
        "id": "qmQX1MLIyF84",
        "colab_type": "code",
        "colab": {
          "base_uri": "https://localhost:8080/",
          "height": 102
        },
        "outputId": "8187b500-ab38-4d88-8c7e-d92d582df41d"
      },
      "source": [
        "M = int(input('請輸入限制值M?')) \n",
        "factorial = 1\n",
        "i = 1\n",
        "\n",
        "while(factorial < M):\n",
        "  i = i+1\n",
        "  factorial = factorial*i\n",
        "  print(i,'階乘為',factorial,'其值大於',M)"
      ],
      "execution_count": 8,
      "outputs": [
        {
          "output_type": "stream",
          "text": [
            "請輸入限制值M?100\n",
            "2 階乘為 2 其值大於 100\n",
            "3 階乘為 6 其值大於 100\n",
            "4 階乘為 24 其值大於 100\n",
            "5 階乘為 120 其值大於 100\n"
          ],
          "name": "stdout"
        }
      ]
    },
    {
      "cell_type": "code",
      "metadata": {
        "id": "-Uufr6OSyH6P",
        "colab_type": "code",
        "colab": {}
      },
      "source": [
        ""
      ],
      "execution_count": 0,
      "outputs": []
    }
  ]
}