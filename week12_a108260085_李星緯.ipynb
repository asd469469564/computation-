{
  "nbformat": 4,
  "nbformat_minor": 0,
  "metadata": {
    "colab": {
      "name": "week12 a108260085 李星緯",
      "provenance": [],
      "include_colab_link": true
    },
    "kernelspec": {
      "name": "python3",
      "display_name": "Python 3"
    }
  },
  "cells": [
    {
      "cell_type": "markdown",
      "metadata": {
        "id": "view-in-github",
        "colab_type": "text"
      },
      "source": [
        "<a href=\"https://colab.research.google.com/github/asd469469564/computation-/blob/master/week12_a108260085_%E6%9D%8E%E6%98%9F%E7%B7%AF.ipynb\" target=\"_parent\"><img src=\"https://colab.research.google.com/assets/colab-badge.svg\" alt=\"Open In Colab\"/></a>"
      ]
    },
    {
      "cell_type": "code",
      "metadata": {
        "id": "zda3UHrWymfw",
        "colab_type": "code",
        "colab": {
          "base_uri": "https://localhost:8080/",
          "height": 68
        },
        "outputId": "bbaaf761-676b-400b-a570-eacd615375d4"
      },
      "source": [
        "i=1\n",
        "while (i<6):\n",
        "    print(i)\n",
        "    if i==3:\n",
        "       break\n",
        "    i+=1"
      ],
      "execution_count": 3,
      "outputs": [
        {
          "output_type": "stream",
          "text": [
            "1\n",
            "2\n",
            "3\n"
          ],
          "name": "stdout"
        }
      ]
    },
    {
      "cell_type": "code",
      "metadata": {
        "id": "W4k8fBQE3tfo",
        "colab_type": "code",
        "colab": {
          "base_uri": "https://localhost:8080/",
          "height": 34
        },
        "outputId": "b02f8804-45b1-47df-c5c3-3cd6412e539e"
      },
      "source": [
        "range(5)"
      ],
      "execution_count": 17,
      "outputs": [
        {
          "output_type": "execute_result",
          "data": {
            "text/plain": [
              "range(0, 5)"
            ]
          },
          "metadata": {
            "tags": []
          },
          "execution_count": 17
        }
      ]
    },
    {
      "cell_type": "code",
      "metadata": {
        "id": "ttIV1FNJ3xvk",
        "colab_type": "code",
        "colab": {
          "base_uri": "https://localhost:8080/",
          "height": 34
        },
        "outputId": "50cdb5d2-6ac2-435d-949b-36fb4671be96"
      },
      "source": [
        "range(2,5)"
      ],
      "execution_count": 18,
      "outputs": [
        {
          "output_type": "execute_result",
          "data": {
            "text/plain": [
              "range(2, 5)"
            ]
          },
          "metadata": {
            "tags": []
          },
          "execution_count": 18
        }
      ]
    },
    {
      "cell_type": "code",
      "metadata": {
        "id": "LgyLeP2T318S",
        "colab_type": "code",
        "colab": {
          "base_uri": "https://localhost:8080/",
          "height": 34
        },
        "outputId": "4d4bfeb6-66c9-4e71-ef2b-fd9bc2c784e7"
      },
      "source": [
        "range(2,10,3)"
      ],
      "execution_count": 19,
      "outputs": [
        {
          "output_type": "execute_result",
          "data": {
            "text/plain": [
              "range(2, 10, 3)"
            ]
          },
          "metadata": {
            "tags": []
          },
          "execution_count": 19
        }
      ]
    },
    {
      "cell_type": "code",
      "metadata": {
        "id": "3ENU-FQR38XQ",
        "colab_type": "code",
        "colab": {
          "base_uri": "https://localhost:8080/",
          "height": 119
        },
        "outputId": "d2250932-b783-4e92-da5d-9c02cb4183b0"
      },
      "source": [
        "while True:\n",
        "    acc = input('請輸入帳號?')\n",
        "    pwd = input('請輸入密碼?')\n",
        "    if (acc == 'abc' and pwd == '123'):\n",
        "       print('帳號與密碼正確')\n",
        "       break\n",
        "    else:\n",
        "       print('登入失敗')"
      ],
      "execution_count": 22,
      "outputs": [
        {
          "output_type": "stream",
          "text": [
            "請輸入帳號?123\n",
            "請輸入密碼?123\n",
            "登入失敗\n",
            "請輸入帳號?abc\n",
            "請輸入密碼?123\n",
            "帳號與密碼正確\n"
          ],
          "name": "stdout"
        }
      ]
    },
    {
      "cell_type": "code",
      "metadata": {
        "id": "Z-Ol8M0M5jBB",
        "colab_type": "code",
        "colab": {
          "base_uri": "https://localhost:8080/",
          "height": 102
        },
        "outputId": "763803e9-43b2-41d8-e0bd-df0dd310928f"
      },
      "source": [
        "for i in range(5):\n",
        "    print(i)\n"
      ],
      "execution_count": 24,
      "outputs": [
        {
          "output_type": "stream",
          "text": [
            "0\n",
            "1\n",
            "2\n",
            "3\n",
            "4\n"
          ],
          "name": "stdout"
        }
      ]
    },
    {
      "cell_type": "code",
      "metadata": {
        "id": "Nh9Q7SFp5yaZ",
        "colab_type": "code",
        "colab": {
          "base_uri": "https://localhost:8080/",
          "height": 68
        },
        "outputId": "f38f2aff-7458-4bbe-d505-a733c58b933a"
      },
      "source": [
        "for i in range(2,5):\n",
        "   print(i)"
      ],
      "execution_count": 26,
      "outputs": [
        {
          "output_type": "stream",
          "text": [
            "2\n",
            "3\n",
            "4\n"
          ],
          "name": "stdout"
        }
      ]
    },
    {
      "cell_type": "code",
      "metadata": {
        "id": "UitmxU7Z6D5K",
        "colab_type": "code",
        "colab": {
          "base_uri": "https://localhost:8080/",
          "height": 68
        },
        "outputId": "1c512965-d6a0-4708-a19e-ea56b1f61676"
      },
      "source": [
        "for i in range(2,10,3):\n",
        "   print(i)"
      ],
      "execution_count": 27,
      "outputs": [
        {
          "output_type": "stream",
          "text": [
            "2\n",
            "5\n",
            "8\n"
          ],
          "name": "stdout"
        }
      ]
    },
    {
      "cell_type": "code",
      "metadata": {
        "id": "S33f0t9k6NT8",
        "colab_type": "code",
        "colab": {
          "base_uri": "https://localhost:8080/",
          "height": 85
        },
        "outputId": "7ab153d4-c9a3-4e08-fd7d-cb184bebf90d"
      },
      "source": [
        "start=int(input('enter a number'))\n",
        "end=int(input('enter a number'))\n",
        "step=int(input('enter a number'))\n",
        "sum=0\n",
        "for i in range(start,end,step):\n",
        "  sum=sum+i\n",
        "  print('i is',i,'sum equals',sum)"
      ],
      "execution_count": 29,
      "outputs": [
        {
          "output_type": "stream",
          "text": [
            "enter a number2\n",
            "enter a number3\n",
            "enter a number9\n",
            "i is 2 sum equals 2\n"
          ],
          "name": "stdout"
        }
      ]
    }
  ]
}