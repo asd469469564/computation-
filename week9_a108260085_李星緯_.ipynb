{
  "nbformat": 4,
  "nbformat_minor": 0,
  "metadata": {
    "colab": {
      "name": "week9 a108260085 李星緯 .ipynb",
      "provenance": [],
      "include_colab_link": true
    },
    "kernelspec": {
      "name": "python3",
      "display_name": "Python 3"
    }
  },
  "cells": [
    {
      "cell_type": "markdown",
      "metadata": {
        "id": "view-in-github",
        "colab_type": "text"
      },
      "source": [
        "<a href=\"https://colab.research.google.com/github/asd469469564/computation-/blob/master/week9_a108260085_%E6%9D%8E%E6%98%9F%E7%B7%AF_.ipynb\" target=\"_parent\"><img src=\"https://colab.research.google.com/assets/colab-badge.svg\" alt=\"Open In Colab\"/></a>"
      ]
    },
    {
      "cell_type": "code",
      "metadata": {
        "id": "7we8SBc_T_Wh",
        "colab_type": "code",
        "colab": {
          "base_uri": "https://localhost:8080/",
          "height": 51
        },
        "outputId": "1913757d-53bb-4e32-9cf8-9adc68026642"
      },
      "source": [
        "score=int(input('請輸入一個成績?'))\n",
        "if score>=60:\n",
        "    print('很好')"
      ],
      "execution_count": 9,
      "outputs": [
        {
          "output_type": "stream",
          "text": [
            "請輸入一個成績?60\n",
            "很好\n"
          ],
          "name": "stdout"
        }
      ]
    },
    {
      "cell_type": "code",
      "metadata": {
        "id": "cP2xNGqefQ9O",
        "colab_type": "code",
        "colab": {
          "base_uri": "https://localhost:8080/",
          "height": 51
        },
        "outputId": "0d9f2029-b37f-41b8-8a66-d6b81b39b33a"
      },
      "source": [
        "cost=int(input('請輸入購買金額?'))\n",
        "if cost>=2000:\n",
        "    print(cost*0.9)\n",
        "else:\n",
        "    print(cost)\n"
      ],
      "execution_count": 11,
      "outputs": [
        {
          "output_type": "stream",
          "text": [
            "請輸入購買金額?2000\n",
            "1800.0\n"
          ],
          "name": "stdout"
        }
      ]
    },
    {
      "cell_type": "code",
      "metadata": {
        "id": "a5xxPZISg6hL",
        "colab_type": "code",
        "colab": {
          "base_uri": "https://localhost:8080/",
          "height": 51
        },
        "outputId": "b84016e8-433e-4fc0-df64-3f2524e0a297"
      },
      "source": [
        "num=int(input('請輸入一個整數?'))\n",
        "if num%2:\n",
        "    print(num,'為奇數')\n",
        "else:\n",
        "    print(num,'為偶數')"
      ],
      "execution_count": 12,
      "outputs": [
        {
          "output_type": "stream",
          "text": [
            "請輸入一個整數?13\n",
            "13 為奇數\n"
          ],
          "name": "stdout"
        }
      ]
    },
    {
      "cell_type": "code",
      "metadata": {
        "id": "8sWYw5L-l4aF",
        "colab_type": "code",
        "colab": {
          "base_uri": "https://localhost:8080/",
          "height": 51
        },
        "outputId": "e984b408-19f3-4c99-b725-1cc1c35dd4b1"
      },
      "source": [
        "m=int(input(\"請輸入價錢?\"))\n",
        "if m>=2000:\n",
        "    print(m*0.9)\n",
        "else:\n",
        "    print(m)"
      ],
      "execution_count": 27,
      "outputs": [
        {
          "output_type": "stream",
          "text": [
            "請輸入價錢?5000\n",
            "4500.0\n"
          ],
          "name": "stdout"
        }
      ]
    }
  ]
}